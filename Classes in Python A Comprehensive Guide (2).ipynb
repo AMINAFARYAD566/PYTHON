{
 "cells": [
  {
   "cell_type": "markdown",
   "id": "81a365e3",
   "metadata": {},
   "source": [
    "# Classes in Python: A Comprehensive Guide\n",
    "\n",
    "## Introduction\n",
    "### In Python, classes are a fundamental building block for object-oriented programming (OOP). OOP is a programming paradigm that uses objects and classes to model real-world scenarios. They allow you to create user-defined data structures that encapsulate both data (attributes) and behavior (methods). This encapsulation promotes code reusability, modularity, and maintainability."
   ]
  },
  {
   "cell_type": "markdown",
   "id": "0a0d6649",
   "metadata": {},
   "source": [
    "## Key Concepts\n",
    "### Class: A blueprint for creating objects. It defines the attributes and methods that objects of that class will possess.\n",
    "### Object: An instance of a class. It has its own unique set of attribute values.\n",
    "### Attributes: Variables that store data associated with an object.\n",
    "### Methods: Functions that operate on the object's data.\n",
    "### Constructor: A special method called __init__ that is automatically invoked when an object is created. It initializes the object's attributes.\n",
    "## Creating a Class and Object"
   ]
  },
  {
   "cell_type": "code",
   "execution_count": 1,
   "id": "0239378a",
   "metadata": {},
   "outputs": [
    {
     "name": "stdout",
     "output_type": "stream",
     "text": [
      "Buddy\n",
      "Buddy barks!\n"
     ]
    }
   ],
   "source": [
    "class Dog:\n",
    "    def __init__(self, name, breed):\n",
    "        self.name = name\n",
    "        self.breed = breed\n",
    "\n",
    "    def bark(self):\n",
    "        print(f\"{self.name} barks!\")\n",
    "\n",
    "# Create an object of the Dog class\n",
    "my_dog = Dog(\"Buddy\", \"Golden Retriever\")\n",
    "\n",
    "# Access attributes and call methods\n",
    "print(my_dog.name)  # Output: Buddy\n",
    "my_dog.bark()  # Output: Buddy barks!"
   ]
  },
  {
   "cell_type": "code",
   "execution_count": 10,
   "id": "4fdf8ab6-94e4-456d-a4e3-43d7421e8454",
   "metadata": {},
   "outputs": [
    {
     "name": "stdout",
     "output_type": "stream",
     "text": [
      "amina\n",
      "19\n",
      "fsd\n"
     ]
    }
   ],
   "source": [
    "#QUESTION 1\n",
    "#create a class person\n",
    "class person:                 \n",
    "     def __init__(self, name,age, city):\n",
    "          self.name = name\n",
    "          self.age=age\n",
    "          self.city= city\n",
    "person1= person(\"amina\", 19, \"fsd\")\n",
    "print(person1.name)\n",
    "print(person1.age)\n",
    "print(person1.city)\n"
   ]
  },
  {
   "cell_type": "code",
   "execution_count": 36,
   "id": "67b93994-5a61-4d12-934a-21f94f2172e4",
   "metadata": {},
   "outputs": [
    {
     "name": "stdout",
     "output_type": "stream",
     "text": [
      "2023\n",
      "2024\n",
      "2025\n",
      "make =2023,model=2024,year=2025\n"
     ]
    }
   ],
   "source": [
    "#QUESTION 2\n",
    "#CREATE A CLASS CAR\n",
    "class car:\n",
    "     def __init__(self, make,model,year):         \n",
    "          self.make = make\n",
    "          self.model=model\n",
    "          self.year= year\n",
    "     def type (self):\n",
    "             print(f\"make ={self.make},model={self.model},year={self.year}\")\n",
    "yeyeye=car(2023,2024,2025)\n",
    "print(yeyeye.make)\n",
    "print(yeyeye.model)\n",
    "print(yeyeye.year)\n",
    "yeyeye.type()"
   ]
  },
  {
   "cell_type": "code",
   "execution_count": 1,
   "id": "e241bd8b-c151-4d79-a7e1-3eca35a5ddf8",
   "metadata": {},
   "outputs": [
    {
     "name": "stdout",
     "output_type": "stream",
     "text": [
      "Area of circle is  55.946739\n",
      "Circumference of circle is  26.515042\n"
     ]
    }
   ],
   "source": [
    "#QUESTION 3\n",
    "# Create a class Circle with attributes radius and methods to calculate area and circumference.\n",
    "import math\n",
    "class circle:\n",
    "    def __init__(self,radius):     \n",
    "        self.radius=radius\n",
    "    def area(self):\n",
    "        return math.pi*self.radius**2         \n",
    "    def circumference(self):\n",
    "        return 2*math.pi*self.radius\n",
    "my_maths=circle(4.22)\n",
    "print(f\"Area of circle is {my_maths.area(): 2f}\")\n",
    "print(f\"Circumference of circle is {my_maths.circumference(): 2f}\")\n"
   ]
  },
  {
   "cell_type": "code",
   "execution_count": 25,
   "id": "81e71325-3b18-4136-9dac-0a6aeaeca3c0",
   "metadata": {},
   "outputs": [
    {
     "name": "stdout",
     "output_type": "stream",
     "text": [
      "Area of rectangle is40\n",
      "Perimeter of rectangle is26\n"
     ]
    }
   ],
   "source": [
    "#QUESTION 4\n",
    "#Create a class Rectangle with attributes length and width and methods to calculate area and perimeter.\n",
    "class reactangle:\n",
    "    def __init__(self,length,width):        \n",
    "        self.length=length\n",
    "        self.width=width\n",
    "    def area(self):\n",
    "        print(f\"Area of rectangle is{self.length*self.width}\")\n",
    "    def perimeter(self):\n",
    "        print(f\"Perimeter of rectangle is{2*(self.length+self.width)}\")\n",
    "my_rectangle=reactangle(8,5)\n",
    "my_rectangle.area()\n",
    "my_rectangle.perimeter()\n",
    "    "
   ]
  },
  {
   "cell_type": "code",
   "execution_count": 17,
   "id": "4944d6ad-9f00-4982-aa4b-e9705bef6c58",
   "metadata": {},
   "outputs": [
    {
     "name": "stdout",
     "output_type": "stream",
     "text": [
      "kite runner is written\n",
      "title : kite runner, author : khaled hussaini , publication_year : 2003\n"
     ]
    }
   ],
   "source": [
    "#QUESTION 6\n",
    "#Create a class Book with attributes title, author, and publication_year\n",
    "class book :\n",
    "    def __init__(self,title,author,publication_year):\n",
    "        self.title=title         \n",
    "        self.author=author\n",
    "        self.publication_year=publication_year\n",
    "    def written(self):\n",
    "        print(f\"{self.title} is written\")\n",
    "class novel(book):\n",
    "  def intro(self):\n",
    "      print(f\"title : {self.title}, author : {self.author} , publication_year : {self.publication_year}\")\n",
    "the_book=novel(\"kite runner\",\"khaled hussaini\",2003)\n",
    "the_book.written()\n",
    "the_book.intro()"
   ]
  },
  {
   "cell_type": "code",
   "execution_count": 19,
   "id": "719d6e2f-9a62-4863-a8ef-77091516e38b",
   "metadata": {},
   "outputs": [
    {
     "name": "stdout",
     "output_type": "stream",
     "text": [
      " name :Muhammad Ali, salary : 50000 , designation : software engineering\n"
     ]
    }
   ],
   "source": [
    "#QUESTION 7\n",
    "#Create a class Employee with attributes name, salary, and designation.\n",
    "class employee:\n",
    "    def __init__(self,name,salary,designation):\n",
    "        self.name=name      \n",
    "        self.salary=salary\n",
    "        self.designation=designation\n",
    "    def display_info(self):\n",
    "       print(f\" name :{self.name}, salary : {self.salary} , designation : { self.designation}\")\n",
    "the_employee=employee(\"Muhammad Ali\" , 50000 , \"software engineering\")\n",
    "the_employee.display_info()"
   ]
  },
  {
   "cell_type": "code",
   "execution_count": 23,
   "id": "bf994dac-f5bf-46b9-aba9-03d8433e4b74",
   "metadata": {},
   "outputs": [
    {
     "name": "stdout",
     "output_type": "stream",
     "text": [
      "average: 57.2\n"
     ]
    }
   ],
   "source": [
    "#QUESTION 5\n",
    " #Create a class Student with attributes name, roll_number, and marks. Implement a method to calculate the average marks.class Student:\n",
    "    def __init__(self,name,roll_no,marks):\n",
    "        self.name= name\n",
    "        self.roll_no= roll_no        \n",
    "        self.marks=marks\n",
    "    def average(self):\n",
    "        total_marks=sum(self.marks)\n",
    "        no_subjects=len(self.marks)\n",
    "        average_marks=total_marks/no_subjects\n",
    "        return average_marks\n",
    "student_1=Student('amina',1234,[21,91,87,15,72])\n",
    "average_marks=student_1.average()\n",
    "print(\"average:\",average_marks)"
   ]
  },
  {
   "cell_type": "code",
   "execution_count": 27,
   "id": "ae7bac56-a2ef-49d2-81ae-676aefb145a6",
   "metadata": {},
   "outputs": [
    {
     "name": "stdout",
     "output_type": "stream",
     "text": [
      "Withdrew: 900.New Balance:189100\n"
     ]
    }
   ],
   "source": [
    "# QUESTION 8\n",
    "#Create a class Bank with attributes name, account_number, and balance. Implement methods to deposit and withdraw money\n",
    "class bank:\n",
    "    def __init__(self,name,account_number,balance):\n",
    "        self.name=name\n",
    "        self.account_number=account_number\n",
    "        self.balance=balance\n",
    "    def deposit (self,amount):\n",
    "        self.balance+=amount\n",
    "        print(f\"Deposited :{ amount}.New Balance : { self.balance}\")\n",
    "    def withdraw (self,amount):\n",
    "        if amount<=self.balance:\n",
    "            self.balance-=amount\n",
    "            print(f\"Withdrew: {amount}.New Balance:{self.balance}\")\n",
    "        else:\n",
    "            print(\"insufficient funds\")\n",
    "bank_account=bank(\"Roheen\",89865,190000)\n",
    "bank_account.withdraw(900)\n"
   ]
  },
  {
   "cell_type": "code",
   "execution_count": 1,
   "id": "b6d5a59d-77f0-4183-87af-1f57acf3d35f",
   "metadata": {},
   "outputs": [
    {
     "name": "stdout",
     "output_type": "stream",
     "text": [
      "Buddy\n",
      "Buddy barks!\n"
     ]
    }
   ],
   "source": [
    "class Dog:\n",
    "    def __init__(self, name, breed):\n",
    "        self.name = name\n",
    "        self.breed = breed\n",
    "\n",
    "    def bark(self):\n",
    "        print(f\"{self.name} barks!\")\n",
    "\n",
    "# Create an object of the Dog class\n",
    "my_dog = Dog(\"Buddy\", \"Golden Retriever\")\n",
    "\n",
    "# Access attributes and call methods\n",
    "print(my_dog.name)  # Output: Buddy\n",
    "my_dog.bark()  # Output: Buddy barks!"
   ]
  },
  {
   "cell_type": "markdown",
   "id": "db04f438",
   "metadata": {},
   "source": [
    "## Inheritance\n",
    "### Inheritance allows you to create new classes (child classes) that inherit attributes and methods from existing classes (parent classes). This promotes code reuse and hierarchical relationships between classes."
   ]
  },
  {
   "cell_type": "code",
   "execution_count": 2,
   "id": "9dcf9e3a",
   "metadata": {},
   "outputs": [
    {
     "name": "stdout",
     "output_type": "stream",
     "text": [
      "Buddy is eating.\n",
      "Buddy barks!\n"
     ]
    }
   ],
   "source": [
    "class Animal:\n",
    "    def __init__(self, name):\n",
    "        self.name = name\n",
    "\n",
    "    def eat(self):\n",
    "        print(f\"{self.name} is eating.\")\n",
    "\n",
    "class Dog(Animal):\n",
    "    def bark(self):\n",
    "        print(f\"{self.name} barks!\")\n",
    "\n",
    "my_dog = Dog(\"Buddy\")\n",
    "my_dog.eat()  # Output: Buddy is eating.\n",
    "my_dog.bark()  # Output: Buddy barks!"
   ]
  },
  {
   "cell_type": "code",
   "execution_count": 32,
   "id": "0d3e33cc-7d16-46b0-8c53-de2e30a5dc01",
   "metadata": {},
   "outputs": [
    {
     "name": "stdout",
     "output_type": "stream",
     "text": [
      "Bilal is eating.\n",
      "Bilal speaks!\n"
     ]
    }
   ],
   "source": [
    "class human:\n",
    "    def __init__(self, name):\n",
    "        self.name = name\n",
    "    def eat(self):\n",
    "          print(f\"{self.name} is eating.\")\n",
    "class person(human):\n",
    "    def euuuu(self):\n",
    "        print(f\"{self.name} speaks!\")\n",
    "myself =person(\"Bilal\")\n",
    "myself.eat()  \n",
    "myself.euuuu() \n"
   ]
  },
  {
   "cell_type": "markdown",
   "id": "d76e9927",
   "metadata": {},
   "source": [
    "## Encapsulation\n",
    "### Encapsulation is the practice of hiding the internal implementation details of a class from the outside world. This promotes code modularity and prevents unintended modifications."
   ]
  },
  {
   "cell_type": "code",
   "execution_count": 27,
   "id": "788a14d6",
   "metadata": {},
   "outputs": [],
   "source": [
    "class BankAccount:\n",
    "    def __init__(self, balance):\n",
    "        self.__balance = balance  # Private attribute\n",
    "\n",
    "    def deposit(self, amount):\n",
    "        self.__balance += amount\n",
    "\n",
    "    def withdraw(self, amount):\n",
    "        if self.__balance >= amount:\n",
    "            self.__balance -= amount\n",
    "        else:\n",
    "            print(\"Insufficient funds.\")\n",
    "\n",
    "    def get_balance(self):\n",
    "        return self.__balance"
   ]
  },
  {
   "cell_type": "markdown",
   "id": "99ec9b48",
   "metadata": {},
   "source": [
    "## Practice Exercises\n",
    "\n",
    "### 1. Create a class Person with attributes name, age, and city.\n",
    "### 2. Create a class Car with attributes make, model, and year.\n",
    "### 3. Create a class Circle with attributes radius and methods to calculate area and circumference.\n",
    "### 4. Create a class Rectangle with attributes length and width and methods to calculate area and perimeter.\n",
    "### 5. Create a class Student with attributes name, roll_number, and marks. Implement a method to calculate the average marks.\n",
    "### 6. Create a class Book with attributes title, author, and publication_year.\n",
    "### 7. Create a class Employee with attributes name, salary, and designation.\n",
    "### 8. Create a class Bank with attributes name, account_number, and balance. Implement methods to deposit and withdraw money.\n",
    "### 9. Create a class Shape with a method to calculate area. Create subclasses Circle, Rectangle, and Triangle that inherit from Shape and implement their specific area calculations.\n",
    "### 10. Create a class Animal with attributes name and sound. Create subclasses Dog, Cat, and Cow that inherit from Animal and implement their specific sounds.\n",
    "\n",
    "## Additional Tips\n",
    "### Use meaningful names for classes, attributes, and methods.\n",
    "### Write clear and concise code.\n",
    "### Use comments to explain complex logic.\n",
    "### Test your code thoroughly.\n",
    "### Consider using inheritance to avoid code duplication.\n",
    "### Encapsulate data to protect it from accidental modification.\n",
    "### Use polymorphism to create flexible and adaptable code."
   ]
  },
  {
   "cell_type": "code",
   "execution_count": null,
   "id": "cae0ab42",
   "metadata": {},
   "outputs": [],
   "source": []
  }
 ],
 "metadata": {
  "kernelspec": {
   "display_name": "Python 3 (ipykernel)",
   "language": "python",
   "name": "python3"
  },
  "language_info": {
   "codemirror_mode": {
    "name": "ipython",
    "version": 3
   },
   "file_extension": ".py",
   "mimetype": "text/x-python",
   "name": "python",
   "nbconvert_exporter": "python",
   "pygments_lexer": "ipython3",
   "version": "3.12.4"
  }
 },
 "nbformat": 4,
 "nbformat_minor": 5
}
